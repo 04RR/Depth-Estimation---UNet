{
  "nbformat": 4,
  "nbformat_minor": 0,
  "metadata": {
    "accelerator": "GPU",
    "colab": {
      "name": "UNET_DEPTH.ipynb",
      "provenance": [],
      "collapsed_sections": []
    },
    "kernelspec": {
      "display_name": "Python 3",
      "language": "python",
      "name": "python3"
    },
    "language_info": {
      "codemirror_mode": {
        "name": "ipython",
        "version": 3
      },
      "file_extension": ".py",
      "mimetype": "text/x-python",
      "name": "python",
      "nbconvert_exporter": "python",
      "pygments_lexer": "ipython3",
      "version": "3.7.6"
    }
  },
  "cells": [
    {
      "cell_type": "code",
      "metadata": {
        "colab": {
          "base_uri": "https://localhost:8080/"
        },
        "id": "8kN7OwkRWAEr",
        "outputId": "a14e6be7-5c70-4a59-c50e-fa8b9e5690e7"
      },
      "source": [
        "!nvidia-smi "
      ],
      "execution_count": null,
      "outputs": [
        {
          "output_type": "stream",
          "text": [
            "Sun Dec 13 05:45:48 2020       \n",
            "+-----------------------------------------------------------------------------+\n",
            "| NVIDIA-SMI 455.45.01    Driver Version: 418.67       CUDA Version: 10.1     |\n",
            "|-------------------------------+----------------------+----------------------+\n",
            "| GPU  Name        Persistence-M| Bus-Id        Disp.A | Volatile Uncorr. ECC |\n",
            "| Fan  Temp  Perf  Pwr:Usage/Cap|         Memory-Usage | GPU-Util  Compute M. |\n",
            "|                               |                      |               MIG M. |\n",
            "|===============================+======================+======================|\n",
            "|   0  Tesla T4            Off  | 00000000:00:04.0 Off |                    0 |\n",
            "| N/A   60C    P8    30W /  70W |      0MiB / 15079MiB |      0%      Default |\n",
            "|                               |                      |                 ERR! |\n",
            "+-------------------------------+----------------------+----------------------+\n",
            "                                                                               \n",
            "+-----------------------------------------------------------------------------+\n",
            "| Processes:                                                                  |\n",
            "|  GPU   GI   CI        PID   Type   Process name                  GPU Memory |\n",
            "|        ID   ID                                                   Usage      |\n",
            "|=============================================================================|\n",
            "|  No running processes found                                                 |\n",
            "+-----------------------------------------------------------------------------+\n"
          ],
          "name": "stdout"
        }
      ]
    },
    {
      "cell_type": "code",
      "metadata": {
        "id": "mI6C2mRYrILm"
      },
      "source": [
        "from pathlib import Path\n",
        "import numpy as np\n",
        "import csv\n",
        "import re\n",
        "import cv2\n",
        "from google.colab.patches import cv2_imshow\n",
        "\n",
        "def read_calib(calib_file_path):\n",
        "    with open(calib_file_path, 'r') as calib_file:\n",
        "        calib = {}\n",
        "        csv_reader = csv.reader(calib_file, delimiter='=')\n",
        "        for attr, value in csv_reader:\n",
        "            calib.setdefault(attr, value)\n",
        "\n",
        "    return calib"
      ],
      "execution_count": null,
      "outputs": []
    },
    {
      "cell_type": "code",
      "metadata": {
        "id": "Xc50TMn4rILn"
      },
      "source": [
        "def read_pfm(pfm_file_path):\n",
        "    with open(pfm_file_path, 'rb') as pfm_file:\n",
        "        header = pfm_file.readline().decode().rstrip()\n",
        "        channels = 3 if header == 'PF' else 1\n",
        "        dim_match = re.match(r'^(\\d+)\\s(\\d+)\\s$', pfm_file.readline().decode('utf-8'))\n",
        "        if dim_match:\n",
        "            width, height = map(int, dim_match.groups())\n",
        "        else:\n",
        "            raise Exception(\"no pfm\")\n",
        "        scale = float(pfm_file.readline().decode().rstrip())\n",
        "        if scale < 0:\n",
        "            e = '<' \n",
        "            scale = -scale\n",
        "        else:\n",
        "            e = '>' \n",
        "        dispariy = np.fromfile(pfm_file, e + 'f')\n",
        "\n",
        "    img = np.reshape(dispariy, newshape=(height, width, channels))\n",
        "    img = np.flipud(img).astype('uint8')\n",
        "    # show(img, \"disparity\")\n",
        "\n",
        "    return dispariy, [(height, width, channels), scale]"
      ],
      "execution_count": null,
      "outputs": []
    },
    {
      "cell_type": "code",
      "metadata": {
        "id": "ZxThf3AJrILn"
      },
      "source": [
        "def create_depth_map(pfm_file_path, calib=None):\n",
        "    dispariy, [shape,scale] = read_pfm(pfm_file_path)\n",
        "    if calib is None:\n",
        "        raise Exception(\"no calib\")\n",
        "    else:\n",
        "        fx = float(calib['cam0'].split(' ')[0].lstrip('['))\n",
        "        base_line = float(calib['baseline'])\n",
        "        doffs = float(calib['doffs'])\n",
        "        depth_map = fx*base_line/(dispariy/scale + doffs)\n",
        "        depth_map = np.reshape(depth_map, newshape=shape)\n",
        "        depth_map = np.flipud(depth_map).astype('uint8')\n",
        "\n",
        "        return depth_map"
      ],
      "execution_count": null,
      "outputs": []
    },
    {
      "cell_type": "code",
      "metadata": {
        "id": "nTSW-joGrILn"
      },
      "source": [
        "def show(img, win_name='image'):\n",
        "    if img is None:\n",
        "        raise Exception(\"no image\")\n",
        "    else:\n",
        "        cv2_imshow(img)\n",
        "        cv2.waitKey()"
      ],
      "execution_count": null,
      "outputs": []
    },
    {
      "cell_type": "code",
      "metadata": {
        "colab": {
          "base_uri": "https://localhost:8080/"
        },
        "id": "XvQLbVUDr8UO",
        "outputId": "953558d1-851b-44f5-80c5-1e83e89f7159"
      },
      "source": [
        "from google.colab import drive\n",
        "drive.mount('data/')"
      ],
      "execution_count": null,
      "outputs": [
        {
          "output_type": "stream",
          "text": [
            "Drive already mounted at data/; to attempt to forcibly remount, call drive.mount(\"data/\", force_remount=True).\n"
          ],
          "name": "stdout"
        }
      ]
    },
    {
      "cell_type": "code",
      "metadata": {
        "id": "rH3l5YXWrILn"
      },
      "source": [
        "pfm_file_dir = Path(r'/content/data/MyDrive/Stereo Vision/Bicycle1-perfect')\n",
        "calib_file_path = pfm_file_dir.joinpath('calib.txt')\n",
        "disp_left = pfm_file_dir.joinpath('disp0.pfm')\n",
        "\n",
        "calib = read_calib(calib_file_path)\n",
        "depth_map_left = create_depth_map(disp_left, calib)\n",
        "# show(depth_map_left, \"depth_map\")"
      ],
      "execution_count": null,
      "outputs": []
    },
    {
      "cell_type": "code",
      "metadata": {
        "id": "od4uMJq33Mtz"
      },
      "source": [
        "from PIL import Image\n",
        "import numpy as np\n",
        "import matplotlib.pyplot as plt\n",
        "import torch\n",
        "import torch.nn as nn\n",
        "import torch.nn.functional as F\n",
        "import os\n",
        "from torch import optim\n",
        "from torch.utils.data import Dataset, DataLoader\n",
        "import torchvision.transforms as transforms\n",
        "from torchsummary import summary"
      ],
      "execution_count": null,
      "outputs": []
    },
    {
      "cell_type": "code",
      "metadata": {
        "id": "ckaMCl9vrILn"
      },
      "source": [
        "class StereoData(Dataset):\n",
        "\n",
        "    def __init__(self, path, transform):\n",
        "        self.path = path\n",
        "        self.transform = transform\n",
        "        self.X = []\n",
        "        self.y = []\n",
        "        for folder_path in os.listdir(path):\n",
        "            folder_path = path+folder_path\n",
        "            left = np.array(Image.open(f'{folder_path}/im1.png'))\n",
        "            right = np.array(Image.open(f'{folder_path}/im0.png'))\n",
        "            disp = f'{folder_path}/disp0.pfm'\n",
        "            try:\n",
        "                calib = f'{folder_path}/calib.txt'\n",
        "                calib_ = read_calib(calib)\n",
        "                disp_map = create_depth_map(disp, calib_)\n",
        "            except:\n",
        "                disp_map = create_depth_map(disp)\n",
        "            self.X.append([left, right])\n",
        "            self.y.append(disp_map)\n",
        "            \n",
        "    def __getitem__(self, idx):\n",
        "        left = self.transform(Image.fromarray(self.X[idx][0]))\n",
        "        right = self.transform(Image.fromarray(self.X[idx][1]))\n",
        "        img = torch.cat([left, right], dim = 0)\n",
        "        x, y, c = self.y[idx].shape\n",
        "        label = self.transform(Image.fromarray(self.y[idx].reshape(x, y)))\n",
        "        return (img, label)\n",
        "\n",
        "    def __len__(self):\n",
        "        return len(self.X)"
      ],
      "execution_count": null,
      "outputs": []
    },
    {
      "cell_type": "code",
      "metadata": {
        "id": "a_9JfGgjRl2F"
      },
      "source": [
        "transform = transforms.Compose([\n",
        "            transforms.Resize((300, 300)),\n",
        "            transforms.ToTensor()\n",
        "])\n",
        "\n",
        "dataset = StereoData(r'/content/data/MyDrive/Stereo Vision/', transform)"
      ],
      "execution_count": null,
      "outputs": []
    },
    {
      "cell_type": "code",
      "metadata": {
        "id": "wnpU22JDRl4b"
      },
      "source": [
        "train_dl = DataLoader(dataset, batch_size= 1, shuffle= True)"
      ],
      "execution_count": null,
      "outputs": []
    },
    {
      "cell_type": "code",
      "metadata": {
        "id": "P1UcAXuYRl82"
      },
      "source": [
        "class UNET(nn.Module):\n",
        "    def __init__(self, in_channels=6, out_channels=1):\n",
        "        super().__init__()\n",
        "\n",
        "        self.conv1 = self.contract_block(in_channels, 32, 7, 3)\n",
        "        self.conv2 = self.contract_block(32, 64, 3, 1)\n",
        "        self.conv3 = self.contract_block(64, 128, 3, 1)\n",
        "        self.conv4 = self.contract_block(128, 256, 3, 1)\n",
        "        self.conv5 = self.contract_block(256, 256, 3, 1)\n",
        "\n",
        "        self.upconv5 = self.expand_block(256, 256, 3, 1)\n",
        "        self.upconv4 = self.expand_block(512, 128, 3, 1)\n",
        "        self.upconv3 = self.expand_block(256, 64, 3, 1)\n",
        "        self.upconv2 = self.expand_block(128, 32, 3, 1)\n",
        "        self.upconv1 = self.expand_block(64, out_channels, 3, 1)\n",
        "\n",
        "    def __call__(self, x):\n",
        "\n",
        "        conv1 = self.conv1(x)\n",
        "        conv2 = self.conv2(conv1)\n",
        "        conv3 = self.conv3(conv2)\n",
        "        conv4 = self.conv4(conv3)\n",
        "        conv5 = self.conv5(conv4)\n",
        "\n",
        "        upconv5 = self.upconv5(conv5)\n",
        "        \n",
        "        upconv4 = self.upconv4(torch.cat([upconv5, conv4], 1))\n",
        "        upconv3 = self.upconv3(torch.cat([upconv4, conv3], 1))\n",
        "        upconv2 = self.upconv2(torch.cat([upconv3, conv2], 1))\n",
        "        upconv1 = self.upconv1(torch.cat([upconv2, conv1], 1))\n",
        "\n",
        "        return upconv1\n",
        "\n",
        "    def contract_block(self, in_channels, out_channels, kernel_size, padding):\n",
        "\n",
        "        contract = nn.Sequential(\n",
        "            torch.nn.Conv2d(in_channels, out_channels, kernel_size=kernel_size, stride=1, padding=padding),\n",
        "            torch.nn.BatchNorm2d(out_channels),\n",
        "            torch.nn.ReLU(),\n",
        "            torch.nn.Conv2d(out_channels, out_channels, kernel_size=kernel_size, stride=1, padding=padding),\n",
        "            torch.nn.BatchNorm2d(out_channels),\n",
        "            torch.nn.ReLU()\n",
        "            )\n",
        "\n",
        "        return contract\n",
        "\n",
        "    def expand_block(self, in_channels, out_channels, kernel_size, padding):\n",
        "\n",
        "        expand = nn.Sequential(\n",
        "            torch.nn.Conv2d(in_channels, out_channels, kernel_size, stride=1, padding=padding),\n",
        "            torch.nn.BatchNorm2d(out_channels),\n",
        "            torch.nn.ReLU(),\n",
        "            torch.nn.Conv2d(out_channels, out_channels, kernel_size, stride=1, padding=padding),\n",
        "            torch.nn.BatchNorm2d(out_channels),\n",
        "            torch.nn.ReLU()\n",
        "            )\n",
        "        return expand"
      ],
      "execution_count": null,
      "outputs": []
    },
    {
      "cell_type": "code",
      "metadata": {
        "id": "Ueybp9YaRl_C",
        "colab": {
          "base_uri": "https://localhost:8080/"
        },
        "outputId": "60123bde-95cc-4ed6-9417-c74a2a2cb397"
      },
      "source": [
        "device = 'cuda'\n",
        "model = UNET()\n",
        "model = model.to(device)\n",
        "\n",
        "summary(model, (6, 300, 300))\n",
        "# model"
      ],
      "execution_count": null,
      "outputs": [
        {
          "output_type": "stream",
          "text": [
            "----------------------------------------------------------------\n",
            "        Layer (type)               Output Shape         Param #\n",
            "================================================================\n",
            "            Conv2d-1         [-1, 32, 300, 300]           9,440\n",
            "       BatchNorm2d-2         [-1, 32, 300, 300]              64\n",
            "              ReLU-3         [-1, 32, 300, 300]               0\n",
            "            Conv2d-4         [-1, 32, 300, 300]          50,208\n",
            "       BatchNorm2d-5         [-1, 32, 300, 300]              64\n",
            "              ReLU-6         [-1, 32, 300, 300]               0\n",
            "            Conv2d-7         [-1, 64, 300, 300]          18,496\n",
            "       BatchNorm2d-8         [-1, 64, 300, 300]             128\n",
            "              ReLU-9         [-1, 64, 300, 300]               0\n",
            "           Conv2d-10         [-1, 64, 300, 300]          36,928\n",
            "      BatchNorm2d-11         [-1, 64, 300, 300]             128\n",
            "             ReLU-12         [-1, 64, 300, 300]               0\n",
            "           Conv2d-13        [-1, 128, 300, 300]          73,856\n",
            "      BatchNorm2d-14        [-1, 128, 300, 300]             256\n",
            "             ReLU-15        [-1, 128, 300, 300]               0\n",
            "           Conv2d-16        [-1, 128, 300, 300]         147,584\n",
            "      BatchNorm2d-17        [-1, 128, 300, 300]             256\n",
            "             ReLU-18        [-1, 128, 300, 300]               0\n",
            "           Conv2d-19        [-1, 256, 300, 300]         295,168\n",
            "      BatchNorm2d-20        [-1, 256, 300, 300]             512\n",
            "             ReLU-21        [-1, 256, 300, 300]               0\n",
            "           Conv2d-22        [-1, 256, 300, 300]         590,080\n",
            "      BatchNorm2d-23        [-1, 256, 300, 300]             512\n",
            "             ReLU-24        [-1, 256, 300, 300]               0\n",
            "           Conv2d-25        [-1, 256, 300, 300]         590,080\n",
            "      BatchNorm2d-26        [-1, 256, 300, 300]             512\n",
            "             ReLU-27        [-1, 256, 300, 300]               0\n",
            "           Conv2d-28        [-1, 256, 300, 300]         590,080\n",
            "      BatchNorm2d-29        [-1, 256, 300, 300]             512\n",
            "             ReLU-30        [-1, 256, 300, 300]               0\n",
            "           Conv2d-31        [-1, 256, 300, 300]         590,080\n",
            "      BatchNorm2d-32        [-1, 256, 300, 300]             512\n",
            "             ReLU-33        [-1, 256, 300, 300]               0\n",
            "           Conv2d-34        [-1, 256, 300, 300]         590,080\n",
            "      BatchNorm2d-35        [-1, 256, 300, 300]             512\n",
            "             ReLU-36        [-1, 256, 300, 300]               0\n",
            "           Conv2d-37        [-1, 128, 300, 300]         589,952\n",
            "      BatchNorm2d-38        [-1, 128, 300, 300]             256\n",
            "             ReLU-39        [-1, 128, 300, 300]               0\n",
            "           Conv2d-40        [-1, 128, 300, 300]         147,584\n",
            "      BatchNorm2d-41        [-1, 128, 300, 300]             256\n",
            "             ReLU-42        [-1, 128, 300, 300]               0\n",
            "           Conv2d-43         [-1, 64, 300, 300]         147,520\n",
            "      BatchNorm2d-44         [-1, 64, 300, 300]             128\n",
            "             ReLU-45         [-1, 64, 300, 300]               0\n",
            "           Conv2d-46         [-1, 64, 300, 300]          36,928\n",
            "      BatchNorm2d-47         [-1, 64, 300, 300]             128\n",
            "             ReLU-48         [-1, 64, 300, 300]               0\n",
            "           Conv2d-49         [-1, 32, 300, 300]          36,896\n",
            "      BatchNorm2d-50         [-1, 32, 300, 300]              64\n",
            "             ReLU-51         [-1, 32, 300, 300]               0\n",
            "           Conv2d-52         [-1, 32, 300, 300]           9,248\n",
            "      BatchNorm2d-53         [-1, 32, 300, 300]              64\n",
            "             ReLU-54         [-1, 32, 300, 300]               0\n",
            "           Conv2d-55          [-1, 1, 300, 300]             577\n",
            "      BatchNorm2d-56          [-1, 1, 300, 300]               2\n",
            "             ReLU-57          [-1, 1, 300, 300]               0\n",
            "           Conv2d-58          [-1, 1, 300, 300]              10\n",
            "      BatchNorm2d-59          [-1, 1, 300, 300]               2\n",
            "             ReLU-60          [-1, 1, 300, 300]               0\n",
            "================================================================\n",
            "Total params: 4,555,663\n",
            "Trainable params: 4,555,663\n",
            "Non-trainable params: 0\n",
            "----------------------------------------------------------------\n",
            "Input size (MB): 2.06\n",
            "Forward/backward pass size (MB): 5013.89\n",
            "Params size (MB): 17.38\n",
            "Estimated Total Size (MB): 5033.32\n",
            "----------------------------------------------------------------\n"
          ],
          "name": "stdout"
        }
      ]
    },
    {
      "cell_type": "code",
      "metadata": {
        "id": "JaUKKwPXRmBO"
      },
      "source": [
        "loss_fun = nn.MSELoss()\r\n",
        "\r\n",
        "def fit(model, train_dl, epochs, lr= 1e-3):\r\n",
        "    optimizer = torch.optim.Adam(model.parameters(), lr=lr, weight_decay=1e-5)\r\n",
        "    \r\n",
        "    for epoch in range(epochs):\r\n",
        "        train_loss = []\r\n",
        "        for batch in train_dl:\r\n",
        "            img, label = batch\r\n",
        "            img = img.to('cuda')\r\n",
        "            label = label.to('cuda')\r\n",
        "            out = model(img)\r\n",
        "            loss = loss_fun(out, label)\r\n",
        "            train_loss.append(loss)\r\n",
        "            loss.backward()\r\n",
        "            optimizer.step()\r\n",
        "            optimizer.zero_grad()\r\n",
        "\r\n",
        "        print(f'Epoch: {epoch+1}/{epochs} -- Loss: {sum(train_loss)/len(train_loss)}')\r\n",
        "        fig=plt.figure(figsize=(2, 1))\r\n",
        "        fig.add_subplot(1, 2, 1)\r\n",
        "        plt.imshow(np.array(label[0].cpu().detach()).reshape(300, 300), cmap= 'gray')\r\n",
        "        fig.add_subplot(1, 2, 2)\r\n",
        "        plt.imshow(np.array(out[0].cpu().detach()).reshape(300, 300), cmap= 'gray')\r\n",
        "        plt.show()\r\n",
        "        "
      ],
      "execution_count": null,
      "outputs": []
    },
    {
      "cell_type": "code",
      "metadata": {
        "colab": {
          "base_uri": "https://localhost:8080/",
          "height": 944
        },
        "id": "kvT8jZypXg48",
        "outputId": "466ef357-c57f-4f60-b895-e50290851504"
      },
      "source": [
        "fit(model, train_dl, 100)"
      ],
      "execution_count": null,
      "outputs": [
        {
          "output_type": "stream",
          "text": [
            "Epoch: 1/100 -- Loss: 0.010640461929142475\n"
          ],
          "name": "stdout"
        },
        {
          "output_type": "display_data",
          "data": {
            "image/png": "[encoded data removed]",
            "text/plain": [
              "<Figure size 144x72 with 2 Axes>"
            ]
          },
          "metadata": {
            "tags": [],
            "needs_background": "light"
          }
        },
        {
          "output_type": "stream",
          "text": [
            "Epoch: 2/100 -- Loss: 0.009655840694904327\n"
          ],
          "name": "stdout"
        },
        {
          "output_type": "display_data",
          "data": {
            "image/png": "[encoded data removed]",
            "text/plain": [
              "<Figure size 144x72 with 2 Axes>"
            ]
          },
          "metadata": {
            "tags": [],
            "needs_background": "light"
          }
        },
        {
          "output_type": "stream",
          "text": [
            "Epoch: 3/100 -- Loss: 0.009853394702076912\n"
          ],
          "name": "stdout"
        },
        {
          "output_type": "display_data",
          "data": {
            "image/png": "[encoded data removed]",
            "text/plain": [
              "<Figure size 144x72 with 2 Axes>"
            ]
          },
          "metadata": {
            "tags": [],
            "needs_background": "light"
          }
        },
        {
          "output_type": "stream",
          "text": [
            "Epoch: 4/100 -- Loss: 0.009630300104618073\n"
          ],
          "name": "stdout"
        },
        {
          "output_type": "display_data",
          "data": {
            "image/png": "[encoded data removed]",
            "text/plain": [
              "<Figure size 144x72 with 2 Axes>"
            ]
          },
          "metadata": {
            "tags": [],
            "needs_background": "light"
          }
        },
        {
          "output_type": "stream",
          "text": [
            "Epoch: 5/100 -- Loss: 0.008999737910926342\n"
          ],
          "name": "stdout"
        },
        {
          "output_type": "display_data",
          "data": {
            "image/png": "[encoded data removed]",
            "text/plain": [
              "<Figure size 144x72 with 2 Axes>"
            ]
          },
          "metadata": {
            "tags": [],
            "needs_background": "light"
          }
        },
        {
          "output_type": "stream",
          "text": [
            "Epoch: 6/100 -- Loss: 0.00882928166538477\n"
          ],
          "name": "stdout"
        },
        {
          "output_type": "display_data",
          "data": {
            "image/png": "[encoded data removed]",
            "text/plain": [
              "<Figure size 144x72 with 2 Axes>"
            ]
          },
          "metadata": {
            "tags": [],
            "needs_background": "light"
          }
        },
        {
          "output_type": "stream",
          "text": [
            "Epoch: 7/100 -- Loss: 0.009582480415701866\n"
          ],
          "name": "stdout"
        },
        {
          "output_type": "display_data",
          "data": {
            "image/png": "[encoded data removed]",
            "text/plain": [
              "<Figure size 144x72 with 2 Axes>"
            ]
          },
          "metadata": {
            "tags": [],
            "needs_background": "light"
          }
        },
        {
          "output_type": "stream",
          "text": [
            "Epoch: 8/100 -- Loss: 0.009211643598973751\n"
          ],
          "name": "stdout"
        },
        {
          "output_type": "display_data",
          "data": {
            "image/png": "[encoded data removed]",
            "text/plain": [
              "<Figure size 144x72 with 2 Axes>"
            ]
          },
          "metadata": {
            "tags": [],
            "needs_background": "light"
          }
        },
        {
          "output_type": "stream",
          "text": [
            "Epoch: 9/100 -- Loss: 0.009128080680966377\n"
          ],
          "name": "stdout"
        },
        {
          "output_type": "display_data",
          "data": {
            "image/png": "[encoded data removed]",
            "text/plain": [
              "<Figure size 144x72 with 2 Axes>"
            ]
          },
          "metadata": {
            "tags": [],
            "needs_background": "light"
          }
        }
      ]
    },
    {
      "cell_type": "code",
      "metadata": {
        "id": "tor3NojVwzkF"
      },
      "source": [
        "torch.save(model, '/content/data/MyDrive/Depth_model_200')"
      ],
      "execution_count": null,
      "outputs": []
    },
    {
      "cell_type": "code",
      "metadata": {
        "id": "0NPF7zxR2Brl"
      },
      "source": [
        ""
      ],
      "execution_count": null,
      "outputs": []
    }
  ]
}